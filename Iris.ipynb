{
 "cells": [
  {
   "cell_type": "code",
   "execution_count": 1,
   "metadata": {
    "collapsed": true
   },
   "outputs": [],
   "source": [
    "import matplotlib.pyplot as plt\n",
    "%matplotlib inline\n",
    "import random\n",
    "import numpy as np\n",
    "import pandas as pd\n",
    "from sklearn import datasets, preprocessing, svm, tree, cross_validation, metrics\n",
    "import sklearn.ensemble as ske\n",
    "import tensorflow as tf\n",
    "import tensorflow.contrib.learn as skflow\n",
    "import tensorflow.contrib.layers as layers"
   ]
  },
  {
   "cell_type": "code",
   "execution_count": 113,
   "metadata": {
    "collapsed": false
   },
   "outputs": [],
   "source": [
    "import scipy.stats as stats\n",
    "from matplotlib.legend_handler import HandlerLine2D"
   ]
  },
  {
   "cell_type": "markdown",
   "metadata": {},
   "source": [
    "Importamos la libreria grafica de matplotlib, pyplot para poder graficar datos tanto de exploración (estadística descriptiva) como de resultados. El comando matplotlib inline indica que se graficara en el notebook\n",
    "importamos la libreria de variables aleatorias, numpy para operaciones matemáticas entre vectores y matrices, pandas para el manejo de datos en tablas indexadas, sklearn nos provee de herramientas para obtener los datos, preprocesarlos, entrenarlos, validarlos y medirlos en ese orden. Los ensambles son tipos de aprendizaje maquina.\n",
    "Tensorflow es la libreria openSource de Google para computación numérica y contrib.learn es una interfaz que ayuda a manejar facilmente los datos y realizar Predicciones y Mineria de Datos."
   ]
  },
  {
   "cell_type": "code",
   "execution_count": 7,
   "metadata": {
    "collapsed": false
   },
   "outputs": [],
   "source": [
    "iris_df = pd.read_csv('data.csv',header = None, index_col=None, na_values=['NA'] )\n",
    "iris_df.columns = ['sepal_len','sepal_width','petal_len','petal_width','class']"
   ]
  },
  {
   "cell_type": "code",
   "execution_count": 8,
   "metadata": {
    "collapsed": false
   },
   "outputs": [
    {
     "data": {
      "text/html": [
       "<div>\n",
       "<table border=\"1\" class=\"dataframe\">\n",
       "  <thead>\n",
       "    <tr style=\"text-align: right;\">\n",
       "      <th></th>\n",
       "      <th>sepal_len</th>\n",
       "      <th>sepal_width</th>\n",
       "      <th>petal_len</th>\n",
       "      <th>petal_width</th>\n",
       "      <th>class</th>\n",
       "    </tr>\n",
       "  </thead>\n",
       "  <tbody>\n",
       "    <tr>\n",
       "      <th>0</th>\n",
       "      <td>5.1</td>\n",
       "      <td>3.5</td>\n",
       "      <td>1.4</td>\n",
       "      <td>0.2</td>\n",
       "      <td>Iris-setosa</td>\n",
       "    </tr>\n",
       "    <tr>\n",
       "      <th>1</th>\n",
       "      <td>4.9</td>\n",
       "      <td>3.0</td>\n",
       "      <td>1.4</td>\n",
       "      <td>0.2</td>\n",
       "      <td>Iris-setosa</td>\n",
       "    </tr>\n",
       "    <tr>\n",
       "      <th>2</th>\n",
       "      <td>4.7</td>\n",
       "      <td>3.2</td>\n",
       "      <td>1.3</td>\n",
       "      <td>0.2</td>\n",
       "      <td>Iris-setosa</td>\n",
       "    </tr>\n",
       "    <tr>\n",
       "      <th>3</th>\n",
       "      <td>4.6</td>\n",
       "      <td>3.1</td>\n",
       "      <td>1.5</td>\n",
       "      <td>0.2</td>\n",
       "      <td>Iris-setosa</td>\n",
       "    </tr>\n",
       "    <tr>\n",
       "      <th>4</th>\n",
       "      <td>5.0</td>\n",
       "      <td>3.6</td>\n",
       "      <td>1.4</td>\n",
       "      <td>0.2</td>\n",
       "      <td>Iris-setosa</td>\n",
       "    </tr>\n",
       "  </tbody>\n",
       "</table>\n",
       "</div>"
      ],
      "text/plain": [
       "   sepal_len  sepal_width  petal_len  petal_width        class\n",
       "0        5.1          3.5        1.4          0.2  Iris-setosa\n",
       "1        4.9          3.0        1.4          0.2  Iris-setosa\n",
       "2        4.7          3.2        1.3          0.2  Iris-setosa\n",
       "3        4.6          3.1        1.5          0.2  Iris-setosa\n",
       "4        5.0          3.6        1.4          0.2  Iris-setosa"
      ]
     },
     "execution_count": 8,
     "metadata": {},
     "output_type": "execute_result"
    }
   ],
   "source": [
    "iris_df.head(5)"
   ]
  },
  {
   "cell_type": "markdown",
   "metadata": {},
   "source": [
    "Leemos los datos y los guardamos en un dataFrame"
   ]
  },
  {
   "cell_type": "code",
   "execution_count": 15,
   "metadata": {
    "collapsed": true
   },
   "outputs": [],
   "source": [
    "iris_byclass_df = iris_df.groupby('class')"
   ]
  },
  {
   "cell_type": "code",
   "execution_count": 16,
   "metadata": {
    "collapsed": false
   },
   "outputs": [
    {
     "data": {
      "text/html": [
       "<div>\n",
       "<table border=\"1\" class=\"dataframe\">\n",
       "  <thead>\n",
       "    <tr style=\"text-align: right;\">\n",
       "      <th></th>\n",
       "      <th>sepal_len</th>\n",
       "      <th>sepal_width</th>\n",
       "      <th>petal_len</th>\n",
       "      <th>petal_width</th>\n",
       "    </tr>\n",
       "    <tr>\n",
       "      <th>class</th>\n",
       "      <th></th>\n",
       "      <th></th>\n",
       "      <th></th>\n",
       "      <th></th>\n",
       "    </tr>\n",
       "  </thead>\n",
       "  <tbody>\n",
       "    <tr>\n",
       "      <th>Iris-setosa</th>\n",
       "      <td>5.006</td>\n",
       "      <td>3.428</td>\n",
       "      <td>1.462</td>\n",
       "      <td>0.246</td>\n",
       "    </tr>\n",
       "    <tr>\n",
       "      <th>Iris-versicolor</th>\n",
       "      <td>5.936</td>\n",
       "      <td>2.770</td>\n",
       "      <td>4.260</td>\n",
       "      <td>1.326</td>\n",
       "    </tr>\n",
       "    <tr>\n",
       "      <th>Iris-virginica</th>\n",
       "      <td>6.588</td>\n",
       "      <td>2.974</td>\n",
       "      <td>5.552</td>\n",
       "      <td>2.026</td>\n",
       "    </tr>\n",
       "  </tbody>\n",
       "</table>\n",
       "</div>"
      ],
      "text/plain": [
       "                 sepal_len  sepal_width  petal_len  petal_width\n",
       "class                                                          \n",
       "Iris-setosa          5.006        3.428      1.462        0.246\n",
       "Iris-versicolor      5.936        2.770      4.260        1.326\n",
       "Iris-virginica       6.588        2.974      5.552        2.026"
      ]
     },
     "execution_count": 16,
     "metadata": {},
     "output_type": "execute_result"
    }
   ],
   "source": [
    "iris_byclass_df.mean()"
   ]
  },
  {
   "cell_type": "markdown",
   "metadata": {},
   "source": [
    "Agrupamos segun su clase y obtenemos la media de cada columna por clase, podemos ver que sus valores son muy distintivos por cada clase"
   ]
  },
  {
   "cell_type": "code",
   "execution_count": 17,
   "metadata": {
    "collapsed": false
   },
   "outputs": [
    {
     "data": {
      "text/html": [
       "<div>\n",
       "<table border=\"1\" class=\"dataframe\">\n",
       "  <thead>\n",
       "    <tr style=\"text-align: right;\">\n",
       "      <th></th>\n",
       "      <th></th>\n",
       "      <th>petal_len</th>\n",
       "      <th>petal_width</th>\n",
       "      <th>sepal_len</th>\n",
       "      <th>sepal_width</th>\n",
       "    </tr>\n",
       "    <tr>\n",
       "      <th>class</th>\n",
       "      <th></th>\n",
       "      <th></th>\n",
       "      <th></th>\n",
       "      <th></th>\n",
       "      <th></th>\n",
       "    </tr>\n",
       "  </thead>\n",
       "  <tbody>\n",
       "    <tr>\n",
       "      <th rowspan=\"8\" valign=\"top\">Iris-setosa</th>\n",
       "      <th>count</th>\n",
       "      <td>50.000000</td>\n",
       "      <td>50.000000</td>\n",
       "      <td>50.000000</td>\n",
       "      <td>50.000000</td>\n",
       "    </tr>\n",
       "    <tr>\n",
       "      <th>mean</th>\n",
       "      <td>1.462000</td>\n",
       "      <td>0.246000</td>\n",
       "      <td>5.006000</td>\n",
       "      <td>3.428000</td>\n",
       "    </tr>\n",
       "    <tr>\n",
       "      <th>std</th>\n",
       "      <td>0.173664</td>\n",
       "      <td>0.105386</td>\n",
       "      <td>0.352490</td>\n",
       "      <td>0.379064</td>\n",
       "    </tr>\n",
       "    <tr>\n",
       "      <th>min</th>\n",
       "      <td>1.000000</td>\n",
       "      <td>0.100000</td>\n",
       "      <td>4.300000</td>\n",
       "      <td>2.300000</td>\n",
       "    </tr>\n",
       "    <tr>\n",
       "      <th>25%</th>\n",
       "      <td>1.400000</td>\n",
       "      <td>0.200000</td>\n",
       "      <td>4.800000</td>\n",
       "      <td>3.200000</td>\n",
       "    </tr>\n",
       "    <tr>\n",
       "      <th>50%</th>\n",
       "      <td>1.500000</td>\n",
       "      <td>0.200000</td>\n",
       "      <td>5.000000</td>\n",
       "      <td>3.400000</td>\n",
       "    </tr>\n",
       "    <tr>\n",
       "      <th>75%</th>\n",
       "      <td>1.575000</td>\n",
       "      <td>0.300000</td>\n",
       "      <td>5.200000</td>\n",
       "      <td>3.675000</td>\n",
       "    </tr>\n",
       "    <tr>\n",
       "      <th>max</th>\n",
       "      <td>1.900000</td>\n",
       "      <td>0.600000</td>\n",
       "      <td>5.800000</td>\n",
       "      <td>4.400000</td>\n",
       "    </tr>\n",
       "    <tr>\n",
       "      <th rowspan=\"8\" valign=\"top\">Iris-versicolor</th>\n",
       "      <th>count</th>\n",
       "      <td>50.000000</td>\n",
       "      <td>50.000000</td>\n",
       "      <td>50.000000</td>\n",
       "      <td>50.000000</td>\n",
       "    </tr>\n",
       "    <tr>\n",
       "      <th>mean</th>\n",
       "      <td>4.260000</td>\n",
       "      <td>1.326000</td>\n",
       "      <td>5.936000</td>\n",
       "      <td>2.770000</td>\n",
       "    </tr>\n",
       "    <tr>\n",
       "      <th>std</th>\n",
       "      <td>0.469911</td>\n",
       "      <td>0.197753</td>\n",
       "      <td>0.516171</td>\n",
       "      <td>0.313798</td>\n",
       "    </tr>\n",
       "    <tr>\n",
       "      <th>min</th>\n",
       "      <td>3.000000</td>\n",
       "      <td>1.000000</td>\n",
       "      <td>4.900000</td>\n",
       "      <td>2.000000</td>\n",
       "    </tr>\n",
       "    <tr>\n",
       "      <th>25%</th>\n",
       "      <td>4.000000</td>\n",
       "      <td>1.200000</td>\n",
       "      <td>5.600000</td>\n",
       "      <td>2.525000</td>\n",
       "    </tr>\n",
       "    <tr>\n",
       "      <th>50%</th>\n",
       "      <td>4.350000</td>\n",
       "      <td>1.300000</td>\n",
       "      <td>5.900000</td>\n",
       "      <td>2.800000</td>\n",
       "    </tr>\n",
       "    <tr>\n",
       "      <th>75%</th>\n",
       "      <td>4.600000</td>\n",
       "      <td>1.500000</td>\n",
       "      <td>6.300000</td>\n",
       "      <td>3.000000</td>\n",
       "    </tr>\n",
       "    <tr>\n",
       "      <th>max</th>\n",
       "      <td>5.100000</td>\n",
       "      <td>1.800000</td>\n",
       "      <td>7.000000</td>\n",
       "      <td>3.400000</td>\n",
       "    </tr>\n",
       "    <tr>\n",
       "      <th rowspan=\"8\" valign=\"top\">Iris-virginica</th>\n",
       "      <th>count</th>\n",
       "      <td>50.000000</td>\n",
       "      <td>50.000000</td>\n",
       "      <td>50.000000</td>\n",
       "      <td>50.000000</td>\n",
       "    </tr>\n",
       "    <tr>\n",
       "      <th>mean</th>\n",
       "      <td>5.552000</td>\n",
       "      <td>2.026000</td>\n",
       "      <td>6.588000</td>\n",
       "      <td>2.974000</td>\n",
       "    </tr>\n",
       "    <tr>\n",
       "      <th>std</th>\n",
       "      <td>0.551895</td>\n",
       "      <td>0.274650</td>\n",
       "      <td>0.635880</td>\n",
       "      <td>0.322497</td>\n",
       "    </tr>\n",
       "    <tr>\n",
       "      <th>min</th>\n",
       "      <td>4.500000</td>\n",
       "      <td>1.400000</td>\n",
       "      <td>4.900000</td>\n",
       "      <td>2.200000</td>\n",
       "    </tr>\n",
       "    <tr>\n",
       "      <th>25%</th>\n",
       "      <td>5.100000</td>\n",
       "      <td>1.800000</td>\n",
       "      <td>6.225000</td>\n",
       "      <td>2.800000</td>\n",
       "    </tr>\n",
       "    <tr>\n",
       "      <th>50%</th>\n",
       "      <td>5.550000</td>\n",
       "      <td>2.000000</td>\n",
       "      <td>6.500000</td>\n",
       "      <td>3.000000</td>\n",
       "    </tr>\n",
       "    <tr>\n",
       "      <th>75%</th>\n",
       "      <td>5.875000</td>\n",
       "      <td>2.300000</td>\n",
       "      <td>6.900000</td>\n",
       "      <td>3.175000</td>\n",
       "    </tr>\n",
       "    <tr>\n",
       "      <th>max</th>\n",
       "      <td>6.900000</td>\n",
       "      <td>2.500000</td>\n",
       "      <td>7.900000</td>\n",
       "      <td>3.800000</td>\n",
       "    </tr>\n",
       "  </tbody>\n",
       "</table>\n",
       "</div>"
      ],
      "text/plain": [
       "                       petal_len  petal_width  sepal_len  sepal_width\n",
       "class                                                                \n",
       "Iris-setosa     count  50.000000    50.000000  50.000000    50.000000\n",
       "                mean    1.462000     0.246000   5.006000     3.428000\n",
       "                std     0.173664     0.105386   0.352490     0.379064\n",
       "                min     1.000000     0.100000   4.300000     2.300000\n",
       "                25%     1.400000     0.200000   4.800000     3.200000\n",
       "                50%     1.500000     0.200000   5.000000     3.400000\n",
       "                75%     1.575000     0.300000   5.200000     3.675000\n",
       "                max     1.900000     0.600000   5.800000     4.400000\n",
       "Iris-versicolor count  50.000000    50.000000  50.000000    50.000000\n",
       "                mean    4.260000     1.326000   5.936000     2.770000\n",
       "                std     0.469911     0.197753   0.516171     0.313798\n",
       "                min     3.000000     1.000000   4.900000     2.000000\n",
       "                25%     4.000000     1.200000   5.600000     2.525000\n",
       "                50%     4.350000     1.300000   5.900000     2.800000\n",
       "                75%     4.600000     1.500000   6.300000     3.000000\n",
       "                max     5.100000     1.800000   7.000000     3.400000\n",
       "Iris-virginica  count  50.000000    50.000000  50.000000    50.000000\n",
       "                mean    5.552000     2.026000   6.588000     2.974000\n",
       "                std     0.551895     0.274650   0.635880     0.322497\n",
       "                min     4.500000     1.400000   4.900000     2.200000\n",
       "                25%     5.100000     1.800000   6.225000     2.800000\n",
       "                50%     5.550000     2.000000   6.500000     3.000000\n",
       "                75%     5.875000     2.300000   6.900000     3.175000\n",
       "                max     6.900000     2.500000   7.900000     3.800000"
      ]
     },
     "execution_count": 17,
     "metadata": {},
     "output_type": "execute_result"
    }
   ],
   "source": [
    "iris_byclass_df.describe()"
   ]
  },
  {
   "cell_type": "markdown",
   "metadata": {},
   "source": [
    "Con la funcion 'describe' podemos observar los detalles de las columnas numericas, como la cantidad de valores, su media, su desviación estandard y sus quintiles (recuerden, 50% no es media, es mediana)"
   ]
  },
  {
   "cell_type": "code",
   "execution_count": 32,
   "metadata": {
    "collapsed": false
   },
   "outputs": [
    {
     "data": {
      "text/html": [
       "<div>\n",
       "<table border=\"1\" class=\"dataframe\">\n",
       "  <thead>\n",
       "    <tr style=\"text-align: right;\">\n",
       "      <th></th>\n",
       "      <th>petal_len</th>\n",
       "      <th>petal_width</th>\n",
       "      <th>sepal_len</th>\n",
       "      <th>sepal_width</th>\n",
       "    </tr>\n",
       "  </thead>\n",
       "  <tbody>\n",
       "    <tr>\n",
       "      <th>count</th>\n",
       "      <td>50.000000</td>\n",
       "      <td>50.000000</td>\n",
       "      <td>50.00000</td>\n",
       "      <td>50.000000</td>\n",
       "    </tr>\n",
       "    <tr>\n",
       "      <th>mean</th>\n",
       "      <td>1.462000</td>\n",
       "      <td>0.246000</td>\n",
       "      <td>5.00600</td>\n",
       "      <td>3.428000</td>\n",
       "    </tr>\n",
       "    <tr>\n",
       "      <th>std</th>\n",
       "      <td>0.173664</td>\n",
       "      <td>0.105386</td>\n",
       "      <td>0.35249</td>\n",
       "      <td>0.379064</td>\n",
       "    </tr>\n",
       "    <tr>\n",
       "      <th>min</th>\n",
       "      <td>1.000000</td>\n",
       "      <td>0.100000</td>\n",
       "      <td>4.30000</td>\n",
       "      <td>2.300000</td>\n",
       "    </tr>\n",
       "    <tr>\n",
       "      <th>25%</th>\n",
       "      <td>1.400000</td>\n",
       "      <td>0.200000</td>\n",
       "      <td>4.80000</td>\n",
       "      <td>3.200000</td>\n",
       "    </tr>\n",
       "    <tr>\n",
       "      <th>50%</th>\n",
       "      <td>1.500000</td>\n",
       "      <td>0.200000</td>\n",
       "      <td>5.00000</td>\n",
       "      <td>3.400000</td>\n",
       "    </tr>\n",
       "    <tr>\n",
       "      <th>75%</th>\n",
       "      <td>1.575000</td>\n",
       "      <td>0.300000</td>\n",
       "      <td>5.20000</td>\n",
       "      <td>3.675000</td>\n",
       "    </tr>\n",
       "    <tr>\n",
       "      <th>max</th>\n",
       "      <td>1.900000</td>\n",
       "      <td>0.600000</td>\n",
       "      <td>5.80000</td>\n",
       "      <td>4.400000</td>\n",
       "    </tr>\n",
       "  </tbody>\n",
       "</table>\n",
       "</div>"
      ],
      "text/plain": [
       "       petal_len  petal_width  sepal_len  sepal_width\n",
       "count  50.000000    50.000000   50.00000    50.000000\n",
       "mean    1.462000     0.246000    5.00600     3.428000\n",
       "std     0.173664     0.105386    0.35249     0.379064\n",
       "min     1.000000     0.100000    4.30000     2.300000\n",
       "25%     1.400000     0.200000    4.80000     3.200000\n",
       "50%     1.500000     0.200000    5.00000     3.400000\n",
       "75%     1.575000     0.300000    5.20000     3.675000\n",
       "max     1.900000     0.600000    5.80000     4.400000"
      ]
     },
     "execution_count": 32,
     "metadata": {},
     "output_type": "execute_result"
    }
   ],
   "source": [
    "iris_byclass_df.describe().loc['Iris-setosa']"
   ]
  },
  {
   "cell_type": "code",
   "execution_count": 34,
   "metadata": {
    "collapsed": false
   },
   "outputs": [
    {
     "data": {
      "text/html": [
       "<div>\n",
       "<table border=\"1\" class=\"dataframe\">\n",
       "  <thead>\n",
       "    <tr style=\"text-align: right;\">\n",
       "      <th></th>\n",
       "      <th>petal_len</th>\n",
       "      <th>petal_width</th>\n",
       "      <th>sepal_len</th>\n",
       "      <th>sepal_width</th>\n",
       "    </tr>\n",
       "  </thead>\n",
       "  <tbody>\n",
       "    <tr>\n",
       "      <th>count</th>\n",
       "      <td>50.000000</td>\n",
       "      <td>50.000000</td>\n",
       "      <td>50.000000</td>\n",
       "      <td>50.000000</td>\n",
       "    </tr>\n",
       "    <tr>\n",
       "      <th>mean</th>\n",
       "      <td>4.260000</td>\n",
       "      <td>1.326000</td>\n",
       "      <td>5.936000</td>\n",
       "      <td>2.770000</td>\n",
       "    </tr>\n",
       "    <tr>\n",
       "      <th>std</th>\n",
       "      <td>0.469911</td>\n",
       "      <td>0.197753</td>\n",
       "      <td>0.516171</td>\n",
       "      <td>0.313798</td>\n",
       "    </tr>\n",
       "    <tr>\n",
       "      <th>min</th>\n",
       "      <td>3.000000</td>\n",
       "      <td>1.000000</td>\n",
       "      <td>4.900000</td>\n",
       "      <td>2.000000</td>\n",
       "    </tr>\n",
       "    <tr>\n",
       "      <th>25%</th>\n",
       "      <td>4.000000</td>\n",
       "      <td>1.200000</td>\n",
       "      <td>5.600000</td>\n",
       "      <td>2.525000</td>\n",
       "    </tr>\n",
       "    <tr>\n",
       "      <th>50%</th>\n",
       "      <td>4.350000</td>\n",
       "      <td>1.300000</td>\n",
       "      <td>5.900000</td>\n",
       "      <td>2.800000</td>\n",
       "    </tr>\n",
       "    <tr>\n",
       "      <th>75%</th>\n",
       "      <td>4.600000</td>\n",
       "      <td>1.500000</td>\n",
       "      <td>6.300000</td>\n",
       "      <td>3.000000</td>\n",
       "    </tr>\n",
       "    <tr>\n",
       "      <th>max</th>\n",
       "      <td>5.100000</td>\n",
       "      <td>1.800000</td>\n",
       "      <td>7.000000</td>\n",
       "      <td>3.400000</td>\n",
       "    </tr>\n",
       "  </tbody>\n",
       "</table>\n",
       "</div>"
      ],
      "text/plain": [
       "       petal_len  petal_width  sepal_len  sepal_width\n",
       "count  50.000000    50.000000  50.000000    50.000000\n",
       "mean    4.260000     1.326000   5.936000     2.770000\n",
       "std     0.469911     0.197753   0.516171     0.313798\n",
       "min     3.000000     1.000000   4.900000     2.000000\n",
       "25%     4.000000     1.200000   5.600000     2.525000\n",
       "50%     4.350000     1.300000   5.900000     2.800000\n",
       "75%     4.600000     1.500000   6.300000     3.000000\n",
       "max     5.100000     1.800000   7.000000     3.400000"
      ]
     },
     "execution_count": 34,
     "metadata": {},
     "output_type": "execute_result"
    }
   ],
   "source": [
    "iris_byclass_df.describe().loc['Iris-versicolor']"
   ]
  },
  {
   "cell_type": "code",
   "execution_count": 35,
   "metadata": {
    "collapsed": false
   },
   "outputs": [
    {
     "data": {
      "text/html": [
       "<div>\n",
       "<table border=\"1\" class=\"dataframe\">\n",
       "  <thead>\n",
       "    <tr style=\"text-align: right;\">\n",
       "      <th></th>\n",
       "      <th>petal_len</th>\n",
       "      <th>petal_width</th>\n",
       "      <th>sepal_len</th>\n",
       "      <th>sepal_width</th>\n",
       "    </tr>\n",
       "  </thead>\n",
       "  <tbody>\n",
       "    <tr>\n",
       "      <th>count</th>\n",
       "      <td>50.000000</td>\n",
       "      <td>50.00000</td>\n",
       "      <td>50.00000</td>\n",
       "      <td>50.000000</td>\n",
       "    </tr>\n",
       "    <tr>\n",
       "      <th>mean</th>\n",
       "      <td>5.552000</td>\n",
       "      <td>2.02600</td>\n",
       "      <td>6.58800</td>\n",
       "      <td>2.974000</td>\n",
       "    </tr>\n",
       "    <tr>\n",
       "      <th>std</th>\n",
       "      <td>0.551895</td>\n",
       "      <td>0.27465</td>\n",
       "      <td>0.63588</td>\n",
       "      <td>0.322497</td>\n",
       "    </tr>\n",
       "    <tr>\n",
       "      <th>min</th>\n",
       "      <td>4.500000</td>\n",
       "      <td>1.40000</td>\n",
       "      <td>4.90000</td>\n",
       "      <td>2.200000</td>\n",
       "    </tr>\n",
       "    <tr>\n",
       "      <th>25%</th>\n",
       "      <td>5.100000</td>\n",
       "      <td>1.80000</td>\n",
       "      <td>6.22500</td>\n",
       "      <td>2.800000</td>\n",
       "    </tr>\n",
       "    <tr>\n",
       "      <th>50%</th>\n",
       "      <td>5.550000</td>\n",
       "      <td>2.00000</td>\n",
       "      <td>6.50000</td>\n",
       "      <td>3.000000</td>\n",
       "    </tr>\n",
       "    <tr>\n",
       "      <th>75%</th>\n",
       "      <td>5.875000</td>\n",
       "      <td>2.30000</td>\n",
       "      <td>6.90000</td>\n",
       "      <td>3.175000</td>\n",
       "    </tr>\n",
       "    <tr>\n",
       "      <th>max</th>\n",
       "      <td>6.900000</td>\n",
       "      <td>2.50000</td>\n",
       "      <td>7.90000</td>\n",
       "      <td>3.800000</td>\n",
       "    </tr>\n",
       "  </tbody>\n",
       "</table>\n",
       "</div>"
      ],
      "text/plain": [
       "       petal_len  petal_width  sepal_len  sepal_width\n",
       "count  50.000000     50.00000   50.00000    50.000000\n",
       "mean    5.552000      2.02600    6.58800     2.974000\n",
       "std     0.551895      0.27465    0.63588     0.322497\n",
       "min     4.500000      1.40000    4.90000     2.200000\n",
       "25%     5.100000      1.80000    6.22500     2.800000\n",
       "50%     5.550000      2.00000    6.50000     3.000000\n",
       "75%     5.875000      2.30000    6.90000     3.175000\n",
       "max     6.900000      2.50000    7.90000     3.800000"
      ]
     },
     "execution_count": 35,
     "metadata": {},
     "output_type": "execute_result"
    }
   ],
   "source": [
    "iris_byclass_df.describe().loc['Iris-virginica']"
   ]
  },
  {
   "cell_type": "markdown",
   "metadata": {},
   "source": [
    "haciendo uso de las funciones indexadoras .loc[] y .iloc[] podemos obtener unicamente aquellas subtablas o registros que coincidan con el nombre, en el caso de loc[], y con su posicion en el caso de iloc[]"
   ]
  },
  {
   "cell_type": "code",
   "execution_count": 44,
   "metadata": {
    "collapsed": false
   },
   "outputs": [
    {
     "data": {
      "text/html": [
       "<div>\n",
       "<table border=\"1\" class=\"dataframe\">\n",
       "  <thead>\n",
       "    <tr style=\"text-align: right;\">\n",
       "      <th></th>\n",
       "      <th>sepal_len</th>\n",
       "      <th>sepal_width</th>\n",
       "      <th>petal_len</th>\n",
       "      <th>petal_width</th>\n",
       "    </tr>\n",
       "    <tr>\n",
       "      <th>class</th>\n",
       "      <th></th>\n",
       "      <th></th>\n",
       "      <th></th>\n",
       "      <th></th>\n",
       "    </tr>\n",
       "  </thead>\n",
       "  <tbody>\n",
       "    <tr>\n",
       "      <th>Iris-setosa</th>\n",
       "      <td>5.006</td>\n",
       "      <td>3.428</td>\n",
       "      <td>1.462</td>\n",
       "      <td>0.246</td>\n",
       "    </tr>\n",
       "    <tr>\n",
       "      <th>Iris-versicolor</th>\n",
       "      <td>5.936</td>\n",
       "      <td>2.770</td>\n",
       "      <td>4.260</td>\n",
       "      <td>1.326</td>\n",
       "    </tr>\n",
       "    <tr>\n",
       "      <th>Iris-virginica</th>\n",
       "      <td>6.588</td>\n",
       "      <td>2.974</td>\n",
       "      <td>5.552</td>\n",
       "      <td>2.026</td>\n",
       "    </tr>\n",
       "  </tbody>\n",
       "</table>\n",
       "</div>"
      ],
      "text/plain": [
       "                 sepal_len  sepal_width  petal_len  petal_width\n",
       "class                                                          \n",
       "Iris-setosa          5.006        3.428      1.462        0.246\n",
       "Iris-versicolor      5.936        2.770      4.260        1.326\n",
       "Iris-virginica       6.588        2.974      5.552        2.026"
      ]
     },
     "execution_count": 44,
     "metadata": {},
     "output_type": "execute_result"
    }
   ],
   "source": [
    "means = iris_byclass_df.mean()\n",
    "iris_byclass_df.mean()"
   ]
  },
  {
   "cell_type": "code",
   "execution_count": 45,
   "metadata": {
    "collapsed": false
   },
   "outputs": [
    {
     "data": {
      "text/html": [
       "<div>\n",
       "<table border=\"1\" class=\"dataframe\">\n",
       "  <thead>\n",
       "    <tr style=\"text-align: right;\">\n",
       "      <th></th>\n",
       "      <th>sepal_len</th>\n",
       "      <th>sepal_width</th>\n",
       "      <th>petal_len</th>\n",
       "      <th>petal_width</th>\n",
       "    </tr>\n",
       "    <tr>\n",
       "      <th>class</th>\n",
       "      <th></th>\n",
       "      <th></th>\n",
       "      <th></th>\n",
       "      <th></th>\n",
       "    </tr>\n",
       "  </thead>\n",
       "  <tbody>\n",
       "    <tr>\n",
       "      <th>Iris-setosa</th>\n",
       "      <td>0.352490</td>\n",
       "      <td>0.379064</td>\n",
       "      <td>0.173664</td>\n",
       "      <td>0.105386</td>\n",
       "    </tr>\n",
       "    <tr>\n",
       "      <th>Iris-versicolor</th>\n",
       "      <td>0.516171</td>\n",
       "      <td>0.313798</td>\n",
       "      <td>0.469911</td>\n",
       "      <td>0.197753</td>\n",
       "    </tr>\n",
       "    <tr>\n",
       "      <th>Iris-virginica</th>\n",
       "      <td>0.635880</td>\n",
       "      <td>0.322497</td>\n",
       "      <td>0.551895</td>\n",
       "      <td>0.274650</td>\n",
       "    </tr>\n",
       "  </tbody>\n",
       "</table>\n",
       "</div>"
      ],
      "text/plain": [
       "                 sepal_len  sepal_width  petal_len  petal_width\n",
       "class                                                          \n",
       "Iris-setosa       0.352490     0.379064   0.173664     0.105386\n",
       "Iris-versicolor   0.516171     0.313798   0.469911     0.197753\n",
       "Iris-virginica    0.635880     0.322497   0.551895     0.274650"
      ]
     },
     "execution_count": 45,
     "metadata": {},
     "output_type": "execute_result"
    }
   ],
   "source": [
    "stds= iris_byclass_df.std()\n",
    "iris_byclass_df.std()"
   ]
  },
  {
   "cell_type": "markdown",
   "metadata": {},
   "source": [
    "Podemos obtener unicamente los valores de la media y la desviación estandar por cada clase agrupada con las funciones .mean() y .std()"
   ]
  },
  {
   "cell_type": "code",
   "execution_count": 59,
   "metadata": {
    "collapsed": true
   },
   "outputs": [],
   "source": [
    "mins = iris_df.min()\n",
    "maxs = iris_df.max()"
   ]
  },
  {
   "cell_type": "code",
   "execution_count": 109,
   "metadata": {
    "collapsed": false
   },
   "outputs": [],
   "source": [
    "setosa = iris_df[iris_df['class']=='Iris-setosa']\n",
    "versicolor = iris_df[iris_df['class']=='Iris-versicolor']\n",
    "virginica = iris_df[iris_df['class']=='Iris-virginica']"
   ]
  },
  {
   "cell_type": "code",
   "execution_count": 130,
   "metadata": {
    "collapsed": false
   },
   "outputs": [
    {
     "data": {
      "text/plain": [
       "<matplotlib.legend.Legend at 0x1e808b74f28>"
      ]
     },
     "execution_count": 130,
     "metadata": {},
     "output_type": "execute_result"
    },
    {
     "data": {
      "image/png": "[encoded data removed]",
      "text/plain": [
       "<matplotlib.figure.Figure at 0x1e809cbd898>"
      ]
     },
     "metadata": {},
     "output_type": "display_data"
    }
   ],
   "source": [
    "fig,ax = plt.subplots(figsize=(8,5))\n",
    "ax.set_xlim(mins[0],maxs[0])\n",
    "#--------------------------------------------------------\n",
    "setosa.sepal_len.values.sort()\n",
    "fit = stats.norm.pdf(setosa.sepal_len,means.iloc[0][0],stds.iloc[0][0])\n",
    "l1, = ax.plot(setosa.sepal_len,fit,'-o',label='setosa')\n",
    "#-----------------------------------------------------\n",
    "versicolor.sepal_len.values.sort()\n",
    "fit = stats.norm.pdf(versicolor.sepal_len,means.iloc[1][0],stds.iloc[2][0])\n",
    "l2, = ax.plot(versicolor.sepal_len,fit,'-o',label='versicolor')\n",
    "#--------------------------------------------------------\n",
    "virginica.sepal_len.values.sort()\n",
    "fit = stats.norm.pdf(virginica.sepal_len,means.iloc[2][0],stds.iloc[2][0])\n",
    "l3, = ax.plot(virginica.sepal_len,fit,'-o',label='virginica')\n",
    "#--------------------------------------------------------\n",
    "ax.set_title('Distribución en sepal_len')\n",
    "ax.legend(handles=[l1,l2,l3])"
   ]
  },
  {
   "cell_type": "code",
   "execution_count": 137,
   "metadata": {
    "collapsed": false
   },
   "outputs": [
    {
     "data": {
      "text/plain": [
       "<matplotlib.legend.Legend at 0x1e809efa978>"
      ]
     },
     "execution_count": 137,
     "metadata": {},
     "output_type": "execute_result"
    },
    {
     "data": {
      "image/png": "[encoded data removed]",
      "text/plain": [
       "<matplotlib.figure.Figure at 0x1e809e91d30>"
      ]
     },
     "metadata": {},
     "output_type": "display_data"
    }
   ],
   "source": [
    "fig,ax = plt.subplots(figsize=(8,5))\n",
    "ax.set_xlim(mins[1],maxs[1])\n",
    "#--------------------------------------------------------\n",
    "setosa.sepal_width.values.sort()\n",
    "fit = stats.norm.pdf(setosa.sepal_width,means.iloc[0][1],stds.iloc[0][1])\n",
    "l1, = ax.plot(setosa.sepal_width,fit,'-o',label='setosa')\n",
    "#-----------------------------------------------------\n",
    "versicolor.sepal_width.values.sort()\n",
    "fit = stats.norm.pdf(versicolor.sepal_width,means.iloc[1][1],stds.iloc[2][1])\n",
    "l2, = ax.plot(versicolor.sepal_width,fit,'-o',label='versicolor')\n",
    "#--------------------------------------------------------\n",
    "virginica.sepal_width.values.sort()\n",
    "fit = stats.norm.pdf(virginica.sepal_width,means.iloc[2][1],stds.iloc[2][1])\n",
    "l3, = ax.plot(virginica.sepal_width,fit,'-o',label='virginica')\n",
    "#--------------------------------------------------------\n",
    "ax.set_title('Distribución en sepal_width')\n",
    "ax.legend(handles=[l1,l2,l3])"
   ]
  },
  {
   "cell_type": "code",
   "execution_count": 147,
   "metadata": {
    "collapsed": false
   },
   "outputs": [
    {
     "data": {
      "text/plain": [
       "<matplotlib.legend.Legend at 0x1e80b95bda0>"
      ]
     },
     "execution_count": 147,
     "metadata": {},
     "output_type": "execute_result"
    },
    {
     "data": {
      "image/png": "[encoded data removed]",
      "text/plain": [
       "<matplotlib.figure.Figure at 0x1e80b119710>"
      ]
     },
     "metadata": {},
     "output_type": "display_data"
    }
   ],
   "source": [
    "fig,ax = plt.subplots(figsize=(8,5))\n",
    "ax.set_xlim(mins[2],maxs[2])\n",
    "#--------------------------------------------------------\n",
    "setosa.petal_len.values.sort()\n",
    "fit = stats.norm.pdf(setosa.petal_len,means.iloc[0][2],stds.iloc[0][2])\n",
    "l1, = ax.plot(setosa.petal_len,fit,'-o',label='setosa')\n",
    "#-----------------------------------------------------\n",
    "versicolor.petal_len.values.sort()\n",
    "fit = stats.norm.pdf(versicolor.petal_len,means.iloc[1][2],stds.iloc[2][2])\n",
    "l2, = ax.plot(versicolor.petal_len,fit,'-o',label='versicolor')\n",
    "#--------------------------------------------------------\n",
    "virginica.petal_len.values.sort()\n",
    "fit = stats.norm.pdf(virginica.petal_len,means.iloc[2][2],stds.iloc[2][2])\n",
    "l3, = ax.plot(virginica.petal_len,fit,'-o',label='virginica')\n",
    "#--------------------------------------------------------\n",
    "ax.set_title('Distribución en petal_len')\n",
    "ax.legend(handles=[l1,l2,l3])"
   ]
  },
  {
   "cell_type": "code",
   "execution_count": 149,
   "metadata": {
    "collapsed": false
   },
   "outputs": [
    {
     "data": {
      "text/plain": [
       "<matplotlib.legend.Legend at 0x1e80bcd9ac8>"
      ]
     },
     "execution_count": 149,
     "metadata": {},
     "output_type": "execute_result"
    },
    {
     "data": {
      "image/png": "[encoded data removed]",
      "text/plain": [
       "<matplotlib.figure.Figure at 0x1e80b9ad278>"
      ]
     },
     "metadata": {},
     "output_type": "display_data"
    }
   ],
   "source": [
    "fig,ax = plt.subplots(figsize=(8,5))\n",
    "ax.set_xlim(mins[3],maxs[3])\n",
    "#--------------------------------------------------------\n",
    "setosa.petal_width.values.sort()\n",
    "fit = stats.norm.pdf(setosa.petal_width,means.iloc[0][3],stds.iloc[0][3])\n",
    "l1, = ax.plot(setosa.petal_width,fit,'-o',label='setosa')\n",
    "#-----------------------------------------------------\n",
    "versicolor.petal_width.values.sort()\n",
    "fit = stats.norm.pdf(versicolor.petal_width,means.iloc[1][3],stds.iloc[2][3])\n",
    "l2, = ax.plot(versicolor.petal_width,fit,'-o',label='versicolor')\n",
    "#--------------------------------------------------------\n",
    "virginica.petal_width.values.sort()\n",
    "fit = stats.norm.pdf(virginica.petal_width,means.iloc[2][3],stds.iloc[2][3])\n",
    "l3, = ax.plot(virginica.petal_width,fit,'-o',label='virginica')\n",
    "#--------------------------------------------------------\n",
    "ax.set_title('Distribución en petal_width')\n",
    "ax.legend(handles=[l1,l2,l3])"
   ]
  },
  {
   "cell_type": "markdown",
   "metadata": {},
   "source": [
    "Con los anteriores ploteos de sus distribuciones normales, podemos observar que existen diferencias (al menos) visibles, pero para la mayoria de los campos estás son lo suficientemente marcadas para diferenciar una clase de otra.\n",
    "No es recomendable hacer este tipo de análisis visual, o al menos usar herramientas más sofisticadas, ya que es suele ser muy tardado."
   ]
  },
  {
   "cell_type": "markdown",
   "metadata": {},
   "source": [
    "## Aplicando Machine Learning con Scykit Learn"
   ]
  },
  {
   "cell_type": "code",
   "execution_count": 49,
   "metadata": {
    "collapsed": true
   },
   "outputs": [],
   "source": [
    "distribution = stats.norm(means.iloc[0][0],stds.iloc[0][0])"
   ]
  },
  {
   "cell_type": "code",
   "execution_count": 50,
   "metadata": {
    "collapsed": false
   },
   "outputs": [
    {
     "ename": "TypeError",
     "evalue": "pdf() missing 1 required positional argument: 'x'",
     "output_type": "error",
     "traceback": [
      "\u001b[0;31m---------------------------------------------------------------------------\u001b[0m",
      "\u001b[0;31mTypeError\u001b[0m                                 Traceback (most recent call last)",
      "\u001b[0;32m<ipython-input-50-15692c8ce496>\u001b[0m in \u001b[0;36m<module>\u001b[0;34m()\u001b[0m\n\u001b[0;32m----> 1\u001b[0;31m \u001b[0mdistribution\u001b[0m\u001b[1;33m.\u001b[0m\u001b[0mpdf\u001b[0m\u001b[1;33m(\u001b[0m\u001b[1;33m)\u001b[0m\u001b[1;33m\u001b[0m\u001b[0m\n\u001b[0m",
      "\u001b[0;31mTypeError\u001b[0m: pdf() missing 1 required positional argument: 'x'"
     ]
    }
   ],
   "source": [
    "plt.hist.plot()"
   ]
  }
 ],
 "metadata": {
  "anaconda-cloud": {},
  "kernelspec": {
   "display_name": "Python [conda root]",
   "language": "python",
   "name": "conda-root-py"
  },
  "language_info": {
   "codemirror_mode": {
    "name": "ipython",
    "version": 3
   },
   "file_extension": ".py",
   "mimetype": "text/x-python",
   "name": "python",
   "nbconvert_exporter": "python",
   "pygments_lexer": "ipython3",
   "version": "3.5.2"
  }
 },
 "nbformat": 4,
 "nbformat_minor": 1
}
